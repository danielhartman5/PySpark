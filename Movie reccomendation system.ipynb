{
 "metadata": {
  "language_info": {
   "codemirror_mode": {
    "name": "ipython",
    "version": 3
   },
   "file_extension": ".py",
   "mimetype": "text/x-python",
   "name": "python",
   "nbconvert_exporter": "python",
   "pygments_lexer": "ipython3",
   "version": "3.9.1-final"
  },
  "orig_nbformat": 2,
  "kernelspec": {
   "name": "python3",
   "display_name": "Python 3.9.1 64-bit",
   "metadata": {
    "interpreter": {
     "hash": "9518128f597d7b00dc14729602cfd87fb7b2cf75925976bcb0d0e328a830a12b"
    }
   }
  }
 },
 "nbformat": 4,
 "nbformat_minor": 2,
 "cells": [
  {
   "cell_type": "code",
   "execution_count": 12,
   "metadata": {},
   "outputs": [
    {
     "output_type": "stream",
     "name": "stdout",
     "text": [
      "root\n",
      " |-- movieId: integer (nullable = true)\n",
      " |-- rating: double (nullable = true)\n",
      " |-- userId: integer (nullable = true)\n",
      "\n",
      "rows: 1501   cols: 3\n",
      "+-------+------+------+\n",
      "|movieId|rating|userId|\n",
      "+-------+------+------+\n",
      "|      2|   3.0|     0|\n",
      "|      3|   1.0|     0|\n",
      "|      5|   2.0|     0|\n",
      "|      9|   4.0|     0|\n",
      "|     11|   1.0|     0|\n",
      "+-------+------+------+\n",
      "only showing top 5 rows\n",
      "\n",
      "+-------+------------------+------------------+------------------+\n",
      "|summary|           movieId|            rating|            userId|\n",
      "+-------+------------------+------------------+------------------+\n",
      "|  count|              1501|              1501|              1501|\n",
      "|   mean| 49.40572951365756|1.7741505662891406|14.383744170552964|\n",
      "| stddev|28.937034065088994| 1.187276166124803| 8.591040424293272|\n",
      "|    min|                 0|               1.0|                 0|\n",
      "|    max|                99|               5.0|                29|\n",
      "+-------+------------------+------------------+------------------+\n",
      "\n"
     ]
    }
   ],
   "source": [
    "from pyspark.sql import SparkSession\n",
    "\n",
    "spark = SparkSession.builder.appName(\"Movie_rec_sys\").getOrCreate()\n",
    "\n",
    "df = spark.read.csv(\"Data\\movielens_ratings.csv\", inferSchema = True, header = True)\n",
    "\n",
    "# observe structure and some data\n",
    "df.printSchema()\n",
    "print(\"rows:\",df.count(), \"  cols:\", len(df.columns))\n",
    "df.show(5)\n",
    "df.describe().show()"
   ]
  },
  {
   "cell_type": "code",
   "execution_count": 14,
   "metadata": {},
   "outputs": [],
   "source": [
    "# Import model\n",
    "from pyspark.ml.evaluation import RegressionEvaluator\n",
    "from pyspark.ml.recommendation import ALS\n",
    "\n",
    "# We can do a split to evaluate how well our model performed, but it is very hard to know conclusively how well a recommender system is truly working for some topics. Especially if subjectivity is involved, for example not everyone that loves star wars is going to love star trek, even though a recommendation system may suggest otherwise.\n",
    "\n",
    "# Split\n",
    "(training, test) = df.randomSplit([0.8, 0.2])\n",
    "\n",
    "# Build model\n",
    "als = ALS(maxIter=5, regParam=0.01, userCol=\"userId\", itemCol=\"movieId\", ratingCol=\"rating\")\n",
    "model = als.fit(training)"
   ]
  },
  {
   "cell_type": "code",
   "execution_count": 16,
   "metadata": {},
   "outputs": [
    {
     "output_type": "stream",
     "name": "stdout",
     "text": [
      "+-------+------+------+-----------+\n",
      "|movieId|rating|userId| prediction|\n",
      "+-------+------+------+-----------+\n",
      "|     31|   1.0|    19|   2.277198|\n",
      "|     31|   1.0|    18| -1.2308383|\n",
      "|     85|   3.0|     1|  1.6115822|\n",
      "|     85|   5.0|    16|-0.54863775|\n",
      "|     85|   1.0|     5|  2.7045946|\n",
      "+-------+------+------+-----------+\n",
      "only showing top 5 rows\n",
      "\n",
      "Root-mean-square error = 1.789821197738708\n"
     ]
    }
   ],
   "source": [
    "# predictions\n",
    "predictions = model.transform(test)\n",
    "predictions.show(5)\n",
    "\n",
    "# evaluation:\n",
    "evaluator = RegressionEvaluator(metricName=\"rmse\", labelCol=\"rating\",predictionCol=\"prediction\")\n",
    "rmse = evaluator.evaluate(predictions)\n",
    "print(\"Root-mean-square error = \" + str(rmse))"
   ]
  },
  {
   "cell_type": "code",
   "execution_count": 31,
   "metadata": {},
   "outputs": [
    {
     "output_type": "stream",
     "name": "stdout",
     "text": [
      "+-------+------+\n|movieId|userId|\n+-------+------+\n|      0|    11|\n|     10|    11|\n|     19|    11|\n|     20|    11|\n|     35|    11|\n|     41|    11|\n|     47|    11|\n|     50|    11|\n|     71|    11|\n|     79|    11|\n|     80|    11|\n+-------+------+\n\n"
     ]
    }
   ],
   "source": [
    "# simulate a fresh user to test model\n",
    "\n",
    "single_user = test.filter(test[\"userId\"]==11).select(\"movieId\",\"userId\")\n",
    "single_user.show()\n"
   ]
  },
  {
   "cell_type": "code",
   "execution_count": 30,
   "metadata": {},
   "outputs": [
    {
     "output_type": "stream",
     "name": "stdout",
     "text": [
      "+-------+------+-----------+\n|movieId|userId| prediction|\n+-------+------+-----------+\n|     10|    11|  2.2102685|\n|     80|    11|  1.5329337|\n|     50|    11|  1.4884136|\n|     79|    11|   1.104497|\n|     19|    11| 0.80065566|\n|     35|    11|  0.6485561|\n|     47|    11| 0.42805374|\n|     20|    11|-0.14330846|\n|     71|    11|-0.18324454|\n|      0|    11|  -0.604515|\n|     41|    11| -1.4870186|\n+-------+------+-----------+\n\n"
     ]
    }
   ],
   "source": [
    "recommendations = model.transform(single_user)\n",
    "\n",
    "recommendations.orderBy(\"prediction\", ascending = False).show()"
   ]
  }
 ]
}