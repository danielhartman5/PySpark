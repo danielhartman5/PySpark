{
 "metadata": {
  "language_info": {
   "codemirror_mode": {
    "name": "ipython",
    "version": 3
   },
   "file_extension": ".py",
   "mimetype": "text/x-python",
   "name": "python",
   "nbconvert_exporter": "python",
   "pygments_lexer": "ipython3",
   "version": "3.9.1-final"
  },
  "orig_nbformat": 2,
  "kernelspec": {
   "name": "python3",
   "display_name": "Python 3.9.1 64-bit",
   "metadata": {
    "interpreter": {
     "hash": "9518128f597d7b00dc14729602cfd87fb7b2cf75925976bcb0d0e328a830a12b"
    }
   }
  }
 },
 "nbformat": 4,
 "nbformat_minor": 2,
 "cells": [
  {
   "cell_type": "code",
   "execution_count": 1,
   "metadata": {},
   "outputs": [
    {
     "output_type": "stream",
     "name": "stdout",
     "text": [
      "root\n",
      " |-- movieId: integer (nullable = true)\n",
      " |-- rating: double (nullable = true)\n",
      " |-- userId: integer (nullable = true)\n",
      " |-- mealskew: double (nullable = true)\n",
      " |-- meal_name: string (nullable = true)\n",
      "\n",
      "rows: 1501   cols: 5\n",
      "+-------+------+------+--------+--------------------+\n",
      "|movieId|rating|userId|mealskew|           meal_name|\n",
      "+-------+------+------+--------+--------------------+\n",
      "|      2|   3.0|     0|     2.0|       Chicken Curry|\n",
      "|      3|   1.0|     0|     3.0|Spicy Chicken Nug...|\n",
      "|      5|   2.0|     0|     5.0|           Hamburger|\n",
      "|      9|   4.0|     0|     9.0|       Taco Surprise|\n",
      "|     11|   1.0|     0|    11.0|            Meatloaf|\n",
      "+-------+------+------+--------+--------------------+\n",
      "only showing top 5 rows\n",
      "\n",
      "+-------+------------------+------------------+------------------+------------------+-------------------+\n",
      "|summary|           movieId|            rating|            userId|          mealskew|          meal_name|\n",
      "+-------+------------------+------------------+------------------+------------------+-------------------+\n",
      "|  count|              1501|              1501|              1501|               486|                486|\n",
      "|   mean| 49.40572951365756|1.7741505662891406|14.383744170552964|15.502057613168724|               null|\n",
      "| stddev|28.937034065088994| 1.187276166124803| 8.591040424293272| 9.250633630277568|               null|\n",
      "|    min|                 0|               1.0|                 0|               0.0|           BBQ Ribs|\n",
      "|    max|                99|               5.0|                29|              31.0|Vietnamese Sandwich|\n",
      "+-------+------------------+------------------+------------------+------------------+-------------------+\n",
      "\n"
     ]
    }
   ],
   "source": [
    "from pyspark.sql import SparkSession\n",
    "\n",
    "spark = SparkSession.builder.appName(\"Meal_rec_sys\").getOrCreate()\n",
    "\n",
    "df = spark.read.csv(\"Data\\Meal_Info.csv\", inferSchema = True, header = True)\n",
    "\n",
    "# observe structure and some data\n",
    "df.printSchema()\n",
    "print(\"rows:\",df.count(), \"  cols:\", len(df.columns))\n",
    "df.show(5)\n",
    "df.describe().show()"
   ]
  }
 ]
}